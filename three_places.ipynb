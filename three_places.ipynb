{
 "cells": [
  {
   "cell_type": "code",
   "execution_count": null,
   "id": "8b006865-2de4-445a-85ab-4d40c9e9dffe",
   "metadata": {},
   "outputs": [],
   "source": [
    "# Load libraries\n",
    "import osmnx as ox\n",
    "import pandas as pd\n",
    "\n",
    "# Prepare data\n",
    "place = [\"Vevey\", \"Montreux\", 'Villeneuve (VD)']\n",
    "gdf_nodes = gdf_edges = None\n",
    "for place in place:\n",
    "    G = ox.graph_from_place(place, retain_all=True, simplify = True, network_type='walk')\n",
    "    n_, e_ = ox.graph_to_gdfs(G)\n",
    "    n_[\"place\"] = place\n",
    "    e_[\"place\"] = place\n",
    "    if gdf_nodes is None:\n",
    "        gdf_nodes = n_\n",
    "        gdf_edges = e_\n",
    "    else:\n",
    "        gdf_nodes = pd.concat([gdf_nodes, n_])\n",
    "        gdf_edges = pd.concat([gdf_edges, e_])\n",
    "        \n",
    "# Plot\n",
    "        \n",
    "import matplotlib.pyplot as plt         \n",
    "from matplotlib.colors import ListedColormap\n",
    "plt.style.use('dark_background')\n",
    "colors = {'Vevey':'red', 'Montreux':'blue', 'Villeneuve (VD)':'yellow'}\n",
    "fig=gdf_edges.plot(column=\"place\", cmap=ListedColormap([colors[k] for k in sorted(colors.keys())]), figsize=(10, 10),\n",
    "                  alpha=1, linewidth=0.5)\n",
    "\n",
    "plt.xticks([])\n",
    "plt.yticks([])\n",
    "fig.spines['top'].set_visible(False)\n",
    "fig.spines['right'].set_visible(False)\n",
    "fig.spines['bottom'].set_visible(False)\n",
    "fig.spines['left'].set_visible(False)\n",
    "plt.savefig(\"3_cities.jpg\", dpi=1200, format=\"jpg\")\n",
    "plt.show()"
   ]
  }
 ],
 "metadata": {
  "kernelspec": {
   "display_name": "Python 3 (ipykernel)",
   "language": "python",
   "name": "python3"
  },
  "language_info": {
   "codemirror_mode": {
    "name": "ipython",
    "version": 3
   },
   "file_extension": ".py",
   "mimetype": "text/x-python",
   "name": "python",
   "nbconvert_exporter": "python",
   "pygments_lexer": "ipython3",
   "version": "3.10.2"
  }
 },
 "nbformat": 4,
 "nbformat_minor": 5
}
